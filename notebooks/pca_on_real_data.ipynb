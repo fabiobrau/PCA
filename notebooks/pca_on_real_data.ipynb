{
  "nbformat": 4,
  "nbformat_minor": 0,
  "metadata": {
    "colab": {
      "provenance": [],
      "name": "pca on real data.ipynb",
      "authorship_tag": "ABX9TyMuka5PPkqd4iLWo9KmnNiK",
      "include_colab_link": true
    },
    "kernelspec": {
      "name": "python3",
      "display_name": "Python 3"
    },
    "language_info": {
      "name": "python"
    }
  },
  "cells": [
    {
      "cell_type": "markdown",
      "metadata": {
        "id": "view-in-github",
        "colab_type": "text"
      },
      "source": [
        "<a href=\"https://colab.research.google.com/github/fabiobrau/PCA/blob/main/notebooks/pca_on_real_data.ipynb\" target=\"_parent\"><img src=\"https://colab.research.google.com/assets/colab-badge.svg\" alt=\"Open In Colab\"/></a>"
      ]
    },
    {
      "cell_type": "code",
      "execution_count": 26,
      "metadata": {
        "id": "yRaKN1PguW1C"
      },
      "outputs": [],
      "source": [
        "## Load the data\n",
        "import torch\n",
        "from torchvision.datasets import MNIST\n",
        "import matplotlib.pyplot as plt\n",
        "import numpy as np\n",
        "\n",
        "data = MNIST(root='./data', download=True, train=False)"
      ]
    },
    {
      "cell_type": "code",
      "source": [
        "## Center the data\n",
        "X = np.array(data.data.float())/255\n",
        "mean = X.mean()\n",
        "print(f\"Mean: {mean}\")\n",
        "X = (X - mean)\n",
        "## Print the first 5 digits in row\n",
        "for i in range(5):\n",
        "    plt.subplot(1, 5, i + 1)\n",
        "    plt.imshow(X[i].reshape(28, 28), cmap='gray')\n",
        "    plt.axis('off')\n",
        "plt.show()\n",
        "\n",
        "##\n",
        "N = X.shape[0]\n",
        "n = X.shape[1]*X.shape[2]\n",
        "X = X.reshape(N, -1)\n",
        "print(f\"N: {N}\")\n",
        "print(f\"n: {n}\")"
      ],
      "metadata": {
        "id": "gKfTODrruxnR"
      },
      "execution_count": null,
      "outputs": []
    },
    {
      "cell_type": "code",
      "source": [
        "### Finding the principal directions with sklearn (three manners)\n",
        "# Directly finding the eigen values of the X^TX\n",
        "M = (X.T @ X)/N\n",
        "eigenvalues, eigenvectors = np.linalg.eigh(M)\n",
        "# sort in decreasing order\n",
        "idx = eigenvalues.argsort()[::-1]\n",
        "eigenvalues = eigenvalues[idx]\n",
        "eigenvectors = eigenvectors[:, idx]\n",
        "#plot all the eigenvalues (x-axis in log scale)\n",
        "plt.plot(eigenvalues)\n",
        "plt.xscale('log')\n",
        "plt.yscale('log')\n",
        "# The rank of M never exceed n\n",
        "plt.vlines(n,0, max(eigenvalues), colors=\"r\")\n",
        "plt.show()"
      ],
      "metadata": {
        "id": "gK6giJ7TvXKK"
      },
      "execution_count": null,
      "outputs": []
    },
    {
      "cell_type": "code",
      "source": [
        "\n",
        "## Second method: Using the singular value decomposition\n",
        "U, S, V = np.linalg.svd(X, full_matrices=False)\n",
        "V = V.T\n",
        "print(f\"Are the values the same? {np.allclose(eigenvalues, S**2/N, atol=1e-5)}\")\n",
        "print(f\"Computational Error: {np.linalg.vector_norm((S**2)/N - eigenvalues)}\")\n"
      ],
      "metadata": {
        "colab": {
          "base_uri": "https://localhost:8080/"
        },
        "id": "TvthzqGKvYul",
        "outputId": "9f40913f-0417-41a2-be82-497c209b2b89"
      },
      "execution_count": 178,
      "outputs": [
        {
          "output_type": "stream",
          "name": "stdout",
          "text": [
            "Are the values the same? True\n",
            "Computational Error: 9.966553079721052e-06\n"
          ]
        }
      ]
    },
    {
      "cell_type": "code",
      "source": [
        "### Showing the first 5 components\n",
        "fig, ax = plt.subplots(1, 5)\n",
        "fig.suptitle('First 5 eigen-digits')\n",
        "fig.subplots_adjust(top=1.5)\n",
        "for i in range(5):\n",
        "    ax[i].imshow(V[:,i].reshape(28, 28), cmap='gray')\n",
        "    ax[i].axis('off')\n",
        "plt.show()"
      ],
      "metadata": {
        "id": "feMaXPFm9TNt"
      },
      "execution_count": null,
      "outputs": []
    },
    {
      "cell_type": "code",
      "source": [
        "## Computing the factors, and visualizing few of them\n",
        "\n",
        "F = X@V\n",
        "# plot the data grouped by clusters\n",
        "fig, ax = plt.subplots(1,2,figsize=(10, 7.5))\n",
        "for i in range(10):\n",
        "    ax[0].scatter(F[data.targets == i, 0], F[data.targets == i, 1], label=f\"Digit: {i}\")\n",
        "ax[0].set_title(\"First two factors computed with SVD\")\n",
        "ax[0].legend()\n",
        "ax[0].set_xlabel('First factor')\n",
        "ax[0].set_ylabel('Second Factor')\n",
        "F_eigh = X@eigenvectors\n",
        "for i in range(10):\n",
        "    ax[1].scatter(F_eigh[data.targets == i, 0], F_eigh[data.targets == i, 1], label=f\"Digit: {i}\")\n",
        "ax[1].set_title(\"First two factors computed with Eigh\")\n",
        "ax[1].legend()\n",
        "ax[1].set_xlabel('First factor')\n",
        "ax[1].set_ylabel('Second Factor')\n",
        "plt.show()\n",
        "print(\"Are they different?\")"
      ],
      "metadata": {
        "id": "zIrO4MHT_dDY"
      },
      "execution_count": null,
      "outputs": []
    },
    {
      "cell_type": "code",
      "source": [
        "## Visualization of the facotors with plotly in three dimensions\n",
        "import plotly.express as px\n",
        "import plotly.graph_objects as go\n",
        "\n",
        "# set the colors form tab10 of matplot lib\n",
        "colors = plt.cm.tab10(range(10))\n",
        "# plot differnt digits with a differnt legend\n",
        "px.scatter_3d(x=F[:, 0], y=F[:, 1], z=F[:, 2], color=data.targets)\n",
        "#for i in range(10):\n",
        "#  fig.add_scatter3d(connectgaps=None, x = F[data.targets == i,0], y = F[data.targets == i,1], z = F[data.targets == i,2],\n",
        "#                 mode='markers',\n",
        "#                 marker=dict(size=3, color=\"species\"),\n",
        "#                 name=f'Digit {i}',\n",
        "#                 visible='legendonly'\n",
        "#                 )\n",
        "fig.show()\n"
      ],
      "metadata": {
        "id": "XLwacLrKCOaG"
      },
      "execution_count": null,
      "outputs": []
    },
    {
      "cell_type": "code",
      "source": [
        "# Third method\n",
        "from sklearn.decomposition import PCA\n",
        "pca = PCA(n_components=2)\n",
        "pca.fit(X)\n",
        "vals = (pca.singular_values_)\n",
        "W = pca.components_.T\n",
        "F = pca.transform(X)"
      ],
      "metadata": {
        "id": "hWPMLl5vy0Yk"
      },
      "execution_count": 107,
      "outputs": []
    },
    {
      "cell_type": "code",
      "source": [],
      "metadata": {
        "id": "fAkeT7Rz6Lgf"
      },
      "execution_count": null,
      "outputs": []
    }
  ]
}