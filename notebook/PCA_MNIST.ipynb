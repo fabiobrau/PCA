{
 "cells": [
  {
   "cell_type": "code",
   "execution_count": 1,
   "metadata": {},
   "outputs": [],
   "source": [
    "import numpy as np\n",
    "import matplotlib.pyplot as plt"
   ]
  },
  {
   "cell_type": "code",
   "execution_count": 2,
   "metadata": {},
   "outputs": [],
   "source": [
    "# Create datasets\n",
    "buff = open('train-images-idx3-ubyte','rb')\n",
    "magic_number = int.from_bytes(buff.read(4), byteorder='big')\n",
    "N = int.from_bytes(buff.read(4), byteorder='big')\n",
    "n_row = int.from_bytes(buff.read(4), byteorder='big')\n",
    "n_col = int.from_bytes(buff.read(4), byteorder='big')\n",
    "X = np.matrix(np.frombuffer(buff.read(), dtype='uint8').reshape(N,-1), dtype='float')/255"
   ]
  },
  {
   "cell_type": "code",
   "execution_count": 3,
   "metadata": {},
   "outputs": [
    {
     "name": "stdout",
     "output_type": "stream",
     "text": [
      "(1, 784)\n"
     ]
    }
   ],
   "source": [
    "# Centering data\n",
    "avg = X.mean(0)\n",
    "print(avg.shape)\n",
    "X = X - avg\n",
    "eig_val, W = np.linalg.eig(X.T@X)\n",
    "idx = [(-l.real, i) for i,l in enumerate(eig_val)]\n",
    "idx.sort()\n",
    "sorted_idx = [j for _,j in idx]\n",
    "W = W[:,sorted_idx].real\n",
    "eig_val = eig_val[sorted_idx].real"
   ]
  },
  {
   "cell_type": "code",
   "execution_count": 4,
   "metadata": {},
   "outputs": [
    {
     "name": "stderr",
     "output_type": "stream",
     "text": [
      "The PostScript backend does not support transparency; partially transparent artists will be rendered opaque.\n",
      "The PostScript backend does not support transparency; partially transparent artists will be rendered opaque.\n"
     ]
    },
    {
     "data": {
      "image/png": "[encoded data removed]",
      "text/plain": [
       "<Figure size 432x288 with 1 Axes>"
      ]
     },
     "metadata": {
      "needs_background": "light"
     },
     "output_type": "display_data"
    }
   ],
   "source": [
    "plt.semilogy(np.sqrt(eig_val.sum() - np.cumsum(eig_val)), marker='.', label='Maximum Error Bound')\n",
    "plt.gca().legend()\n",
    "plt.gca().set_xlabel('# dropped Principal Direction')\n",
    "plt.gca().set_ylabel('Root cumulative sum')\n",
    "plt.gcf().savefig('../slide/pic/mnist/eigenvalues.eps', transparent=True)"
   ]
  },
  {
   "cell_type": "code",
   "execution_count": 4,
   "metadata": {},
   "outputs": [
    {
     "name": "stderr",
     "output_type": "stream",
     "text": [
      "The PostScript backend does not support transparency; partially transparent artists will be rendered opaque.\n",
      "The PostScript backend does not support transparency; partially transparent artists will be rendered opaque.\n",
      "The PostScript backend does not support transparency; partially transparent artists will be rendered opaque.\n",
      "The PostScript backend does not support transparency; partially transparent artists will be rendered opaque.\n",
      "The PostScript backend does not support transparency; partially transparent artists will be rendered opaque.\n",
      "The PostScript backend does not support transparency; partially transparent artists will be rendered opaque.\n",
      "The PostScript backend does not support transparency; partially transparent artists will be rendered opaque.\n",
      "The PostScript backend does not support transparency; partially transparent artists will be rendered opaque.\n",
      "The PostScript backend does not support transparency; partially transparent artists will be rendered opaque.\n",
      "The PostScript backend does not support transparency; partially transparent artists will be rendered opaque.\n",
      "The PostScript backend does not support transparency; partially transparent artists will be rendered opaque.\n",
      "The PostScript backend does not support transparency; partially transparent artists will be rendered opaque.\n",
      "The PostScript backend does not support transparency; partially transparent artists will be rendered opaque.\n",
      "The PostScript backend does not support transparency; partially transparent artists will be rendered opaque.\n",
      "The PostScript backend does not support transparency; partially transparent artists will be rendered opaque.\n",
      "The PostScript backend does not support transparency; partially transparent artists will be rendered opaque.\n",
      "The PostScript backend does not support transparency; partially transparent artists will be rendered opaque.\n",
      "The PostScript backend does not support transparency; partially transparent artists will be rendered opaque.\n",
      "The PostScript backend does not support transparency; partially transparent artists will be rendered opaque.\n",
      "The PostScript backend does not support transparency; partially transparent artists will be rendered opaque.\n",
      "The PostScript backend does not support transparency; partially transparent artists will be rendered opaque.\n",
      "The PostScript backend does not support transparency; partially transparent artists will be rendered opaque.\n",
      "The PostScript backend does not support transparency; partially transparent artists will be rendered opaque.\n",
      "The PostScript backend does not support transparency; partially transparent artists will be rendered opaque.\n",
      "The PostScript backend does not support transparency; partially transparent artists will be rendered opaque.\n",
      "The PostScript backend does not support transparency; partially transparent artists will be rendered opaque.\n",
      "The PostScript backend does not support transparency; partially transparent artists will be rendered opaque.\n",
      "The PostScript backend does not support transparency; partially transparent artists will be rendered opaque.\n",
      "The PostScript backend does not support transparency; partially transparent artists will be rendered opaque.\n",
      "The PostScript backend does not support transparency; partially transparent artists will be rendered opaque.\n",
      "The PostScript backend does not support transparency; partially transparent artists will be rendered opaque.\n",
      "The PostScript backend does not support transparency; partially transparent artists will be rendered opaque.\n"
     ]
    },
    {
     "data": {
      "image/png": "[encoded data removed]",
      "text/plain": [
       "<Figure size 432x288 with 1 Axes>"
      ]
     },
     "metadata": {
      "needs_background": "light"
     },
     "output_type": "display_data"
    },
    {
     "data": {
      "text/plain": [
       "<Figure size 432x288 with 0 Axes>"
      ]
     },
     "metadata": {},
     "output_type": "display_data"
    },
    {
     "data": {
      "text/plain": [
       "<Figure size 432x288 with 0 Axes>"
      ]
     },
     "metadata": {},
     "output_type": "display_data"
    },
    {
     "data": {
      "text/plain": [
       "<Figure size 432x288 with 0 Axes>"
      ]
     },
     "metadata": {},
     "output_type": "display_data"
    },
    {
     "data": {
      "text/plain": [
       "<Figure size 432x288 with 0 Axes>"
      ]
     },
     "metadata": {},
     "output_type": "display_data"
    },
    {
     "data": {
      "text/plain": [
       "<Figure size 432x288 with 0 Axes>"
      ]
     },
     "metadata": {},
     "output_type": "display_data"
    },
    {
     "data": {
      "text/plain": [
       "<Figure size 432x288 with 0 Axes>"
      ]
     },
     "metadata": {},
     "output_type": "display_data"
    },
    {
     "data": {
      "text/plain": [
       "<Figure size 432x288 with 0 Axes>"
      ]
     },
     "metadata": {},
     "output_type": "display_data"
    },
    {
     "data": {
      "text/plain": [
       "<Figure size 432x288 with 0 Axes>"
      ]
     },
     "metadata": {},
     "output_type": "display_data"
    },
    {
     "data": {
      "text/plain": [
       "<Figure size 432x288 with 0 Axes>"
      ]
     },
     "metadata": {},
     "output_type": "display_data"
    },
    {
     "data": {
      "text/plain": [
       "<Figure size 432x288 with 0 Axes>"
      ]
     },
     "metadata": {},
     "output_type": "display_data"
    },
    {
     "data": {
      "text/plain": [
       "<Figure size 432x288 with 0 Axes>"
      ]
     },
     "metadata": {},
     "output_type": "display_data"
    },
    {
     "data": {
      "text/plain": [
       "<Figure size 432x288 with 0 Axes>"
      ]
     },
     "metadata": {},
     "output_type": "display_data"
    },
    {
     "data": {
      "text/plain": [
       "<Figure size 432x288 with 0 Axes>"
      ]
     },
     "metadata": {},
     "output_type": "display_data"
    },
    {
     "data": {
      "text/plain": [
       "<Figure size 432x288 with 0 Axes>"
      ]
     },
     "metadata": {},
     "output_type": "display_data"
    },
    {
     "data": {
      "text/plain": [
       "<Figure size 432x288 with 0 Axes>"
      ]
     },
     "metadata": {},
     "output_type": "display_data"
    },
    {
     "data": {
      "text/plain": [
       "<Figure size 432x288 with 0 Axes>"
      ]
     },
     "metadata": {},
     "output_type": "display_data"
    }
   ],
   "source": [
    "x1 = X[7].T\n",
    "fancy_x = (np.array(x1).reshape(-1) + np.array(avg).reshape(-1)).reshape(n_row, n_col)\n",
    "f1 = W.T@x1\n",
    "## Error plots\n",
    "fig_error, ax_error = plt.subplots(1)\n",
    "ax_error.semilogy(np.sqrt((eig_val.sum() - np.cumsum(eig_val))/N), marker='.', label='Expected Error')\n",
    "ax_error.set_xlabel('# Principal Direction')\n",
    "ax_error.set_ylabel('Root cumulative sum')\n",
    "for j, i in enumerate([1,2,3,4,5,6,7,8,9,10,20,50,100,200,500,700]):\n",
    "    fig, ax = plt.subplots(1,2)\n",
    "    ax[0].imshow(fancy_x, cmap='Greys', label='Original')\n",
    "    ax[0].set_title('Original')\n",
    "    ax[0].set_axis_off()\n",
    "    tilde_x1 = W[:,:i]@f1[:i]\n",
    "    fancy_tilde_x = (np.array(tilde_x1).reshape(-1) + np.array(avg).reshape(-1)).reshape(n_row, n_col)\n",
    "    ax[1].imshow(fancy_tilde_x, cmap='Greys')\n",
    "    ax[1].set_title(f'''{i:3d}-factors compression''')\n",
    "    ax[1].set_axis_off()\n",
    "    # Computing distance\n",
    "    error = np.linalg.norm((fancy_x - fancy_tilde_x),'fro')\n",
    "    rmse = np.linalg.norm((fancy_x - fancy_tilde_x),'fro')/np.sqrt(n_row*n_col)\n",
    "    fig.suptitle(f'''Euclidean Distance : {error:.2e}\n",
    "                       RMSE : {rmse:.2e}''', fontsize=14, x=0.5,y=0.20)\n",
    "    fig.savefig(f\"../slide/pic/mnist/compress-{i}.eps\")\n",
    "    fig.clf()\n",
    "    # Error\n",
    "    if j==0:\n",
    "        ax_error.scatter(x=i, y=error, color='r', marker='*', label='Actual Error')\n",
    "        ax_error.legend()\n",
    "    else:\n",
    "        ax_error.scatter(x=i, y=error, color='r', marker='*')\n",
    "    fig_error.savefig(f'../slide/pic/mnist/cum_eig-{i}.eps', transparent=True)\n",
    "    fig_error.show()\n"
   ]
  },
  {
   "cell_type": "code",
   "execution_count": 12,
   "metadata": {},
   "outputs": [
    {
     "data": {
      "text/plain": [
       "(784, 1)"
      ]
     },
     "execution_count": 12,
     "metadata": {},
     "output_type": "execute_result"
    }
   ],
   "source": [
    "W[:,:1].shape"
   ]
  },
  {
   "cell_type": "code",
   "execution_count": 25,
   "metadata": {},
   "outputs": [
    {
     "data": {
      "image/png": "[encoded data removed]",
      "text/plain": [
       "<Figure size 648x648 with 9 Axes>"
      ]
     },
     "metadata": {
      "needs_background": "light"
     },
     "output_type": "display_data"
    }
   ],
   "source": [
    "## First Eigenvectors\n",
    "plt.close()\n",
    "fig, axes = plt.subplots(3,3, figsize = (9,9))\n",
    "for i, ax in enumerate(axes.ravel()):\n",
    "    act = (W[:,i].reshape(-1)).reshape(n_row, n_col)\n",
    "    ax.imshow(act, cmap='Greys')\n",
    "    ax.set_title(f'eigen value: {eig_val[i]:.2e}', x=0.5, y=-0.12)\n",
    "    ax.set_axis_off()\n",
    "fig.savefig('../slide/pic/eigen_digits.eps', transparent=True)"
   ]
  },
  {
   "cell_type": "code",
   "execution_count": null,
   "metadata": {},
   "outputs": [],
   "source": []
  }
 ],
 "metadata": {
  "kernelspec": {
   "display_name": "Python (paper-uc3)",
   "language": "python",
   "name": "uc3-5-paper-tf"
  },
  "language_info": {
   "codemirror_mode": {
    "name": "ipython",
    "version": 3
   },
   "file_extension": ".py",
   "mimetype": "text/x-python",
   "name": "python",
   "nbconvert_exporter": "python",
   "pygments_lexer": "ipython3",
   "version": "3.7.7"
  }
 },
 "nbformat": 4,
 "nbformat_minor": 4
}
