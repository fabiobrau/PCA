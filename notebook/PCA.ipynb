{
 "cells": [
  {
   "cell_type": "code",
   "execution_count": 1,
   "metadata": {},
   "outputs": [],
   "source": [
    "import numpy as np \n",
    "import pandas as pd\n",
    "import matplotlib.pyplot as plt\n",
    "from numpy.linalg import norm"
   ]
  },
  {
   "cell_type": "code",
   "execution_count": 76,
   "metadata": {},
   "outputs": [],
   "source": [
    "samples = 4000\n",
    "th = np.random.rand(samples)\n",
    "r = np.random.rand(samples)\n",
    "\n",
    "x = 1*r*np.sin(th*2*np.pi)\n",
    "y = 2.2*r*np.cos(th*2*np.pi)\n",
    "z = 0.07*np.random.randn(samples)\n",
    "\n",
    "# Bases of rotated hyperplane\n",
    "v1 = np.array([0.4,1,-0.5])\n",
    "v2 = np.array([1,-0.4,0])\n",
    "v1 = v1/norm(v1)\n",
    "v2 = v2/norm(v2)\n",
    "v3 = np.cross(v1,v2)\n",
    "# Supposing tha x,y,z are the cordinates on bases v1,v2,v3\n",
    "# I want to read them in canonical base\n",
    "M = np.matrix(np.concatenate([v1.reshape(-1,1),v2.reshape(-1,1),v3.reshape(-1,1)],axis=1))\n",
    "X = np.matrix(np.concatenate([x.reshape(-1,1),y.reshape(-1,1),z.reshape(-1,1)],axis=1))\n",
    "X = X\n",
    "Y = X@M.T\n",
    "# Inertia\n",
    "I2 = norm(Y@v2.reshape(-1,1))**2\n",
    "I1 = norm(Y@v1.reshape(-1,1))**2\n",
    "I3 = norm(Y@v3.reshape(-1,1))**2\n"
   ]
  },
  {
   "cell_type": "code",
   "execution_count": 77,
   "metadata": {},
   "outputs": [
    {
     "name": "stdout",
     "output_type": "stream",
     "text": [
      "mean: [[ 0.00527671 -0.00270695  0.00111856]], std: [[0.83907263 0.4743681  0.18046786]]\n",
      "3181.200114073397\n",
      "646.2530251370628\n",
      "19.23899242767712\n"
     ]
    }
   ],
   "source": [
    "print(f'mean: {Y.mean(0)}, std: {Y.std(0)}')\n",
    "print(norm(Y@v2.reshape(-1,1))**2)\n",
    "print(norm(Y@v1.reshape(-1,1))**2)\n",
    "print(norm(Y@v3.reshape(-1,1))**2)"
   ]
  },
  {
   "cell_type": "code",
   "execution_count": 108,
   "metadata": {},
   "outputs": [],
   "source": [
    "import plotly.express as px\n",
    "import plotly.graph_objects as go\n",
    "\n",
    "\n",
    "df = pd.DataFrame(Y,columns=['X','Y','Z'])\n",
    "df_v1 = pd.DataFrame([[0,0,0],v1], columns=['X','Y','Z'])\n",
    "df_v2 = pd.DataFrame([[0,0,0],v2], columns=['X','Y','Z'])\n",
    "df_v3 = pd.DataFrame([[0,0,0],v3], columns=['X','Y','Z'])\n",
    "\n",
    "#fig = go.Scatter3D(df, x='X', y='Y', z='Z',width=800, height=600,\n",
    "#                   marker={'size':1})\n",
    "fig = go.Figure(data=[go.Scatter3d(x=df.X, y=df.Y, z=df.Z,\n",
    "                                   name='samples',\n",
    "                                   mode='markers',    \n",
    "                                   marker=dict(size=2, colorscale='greys', opacity=0.5),\n",
    "                                   )])\n",
    "## v2\n",
    "fig.add_scatter3d(connectgaps=None, x = df_v2.X.values, y = df_v2.Y.values, z = df_v2.Z.values,\n",
    "                 name='First Principal Component',\n",
    "                 mode='lines+markers',\n",
    "                 line=dict(width=6),\n",
    "                 marker=dict(symbol='diamond', size=3),\n",
    "                 visible='legendonly'\n",
    "                 )\n",
    "fig.add_scatter3d(connectgaps=None, x = df_v1.X.values, y = df_v1.Y.values, z = df_v1.Z.values,\n",
    "                 name='Second Principal Component',\n",
    "                 mode='lines+markers',\n",
    "                 line=dict(width=6),\n",
    "                 marker=dict(symbol='diamond', size=3),\n",
    "                 visible='legendonly'\n",
    "                 )\n",
    "\n",
    "fig.add_scatter3d(connectgaps=None, x = df_v3.X.values, y = df_v3.Y.values, z = df_v3.Z.values,\n",
    "                 name='Third Principal Component',\n",
    "                 mode='lines+markers',\n",
    "                 line=dict(width=6),\n",
    "                 marker=dict(symbol='diamond', size=3),\n",
    "                 visible='legendonly'\n",
    "                 )\n",
    "# Projections\n",
    "fig.add_scatter3d(x=df.X, y=df.Y, z=df.Z,\n",
    "                   name='projections',\n",
    "                   mode='markers',\n",
    "                   opacity=0,\n",
    "                   marker=dict(size=2, colorscale='greys_r'),\n",
    "                   projection=dict(x=dict(show=True, opacity=1), y=dict(show=True, opacity=1), z=dict(show=True, opacity=1)),\n",
    "                   visible='legendonly'\n",
    "                  )\n",
    "\n",
    "\n",
    "fig.update_layout(scene_aspectmode='cube',\n",
    "                  scene =dict(\n",
    "                      xaxis=dict(nticks=10, range=[-2.5,2.5]),\n",
    "                      yaxis=dict(nticks=10, range=[-2.5,2.5]),\n",
    "                      zaxis=dict(nticks=10, range=[-2.5,2.5])\n",
    "                  )\n",
    "                 )\n",
    "fig.write_html(\"PCA_3D.html\")"
   ]
  },
  {
   "cell_type": "code",
   "execution_count": 113,
   "metadata": {},
   "outputs": [],
   "source": [
    "import plotly.express as px\n",
    "import plotly.graph_objects as go\n",
    "\n",
    "\n",
    "df2_v1 = pd.DataFrame([[0,0],[1,0]], columns=['X','Y'])\n",
    "df2_v2 = pd.DataFrame([[0,0],[0,1]], columns=['X','Y'])\n",
    "\n",
    "#fig = go.Scatter3D(df, x='X', y='Y', z='Z',width=800, height=600,\n",
    "#                   marker={'size':1})\n",
    "fig = go.Figure(data=[go.Scatter(x=x, y=y,\n",
    "                                   name='samples',\n",
    "                                   mode='markers',    \n",
    "                                   marker=dict(size=3, colorscale='greys', opacity=1),\n",
    "                                   )])\n",
    "## v2\n",
    "fig.add_scatter(connectgaps=None, x = df2_v2.X.values, y = df2_v2.Y.values,\n",
    "                 name='First Principal Component',\n",
    "                 mode='lines+markers',\n",
    "                 line=dict(width=6),\n",
    "                 marker=dict(symbol='diamond', size=3),\n",
    "                 visible='legendonly'\n",
    "                 )\n",
    "fig.add_scatter(connectgaps=None, x = df2_v1.X.values, y = df2_v1.Y.values,\n",
    "                 name='Second Principal Component',\n",
    "                 mode='lines+markers',\n",
    "                 line=dict(width=6),\n",
    "                 marker=dict(symbol='diamond', size=3),\n",
    "                 visible='legendonly'\n",
    "                 )\n",
    "\n",
    "\n",
    "\n",
    "fig.update_yaxes(\n",
    "    scaleanchor = \"x\",\n",
    "    scaleratio = 1,\n",
    "  )\n",
    "fig.write_html(\"PCA_2D.html\")"
   ]
  },
  {
   "cell_type": "code",
   "execution_count": 8,
   "metadata": {},
   "outputs": [
    {
     "data": {
      "text/plain": [
       "array([ 0.25916053,  0.86386843, -0.43193421])"
      ]
     },
     "execution_count": 8,
     "metadata": {},
     "output_type": "execute_result"
    }
   ],
   "source": [
    "v1"
   ]
  },
  {
   "cell_type": "code",
   "execution_count": null,
   "metadata": {},
   "outputs": [],
   "source": []
  }
 ],
 "metadata": {
  "kernelspec": {
   "display_name": "Python (paper-uc3)",
   "language": "python",
   "name": "uc3-5-paper-tf"
  },
  "language_info": {
   "codemirror_mode": {
    "name": "ipython",
    "version": 3
   },
   "file_extension": ".py",
   "mimetype": "text/x-python",
   "name": "python",
   "nbconvert_exporter": "python",
   "pygments_lexer": "ipython3",
   "version": "3.7.7"
  }
 },
 "nbformat": 4,
 "nbformat_minor": 4
}
